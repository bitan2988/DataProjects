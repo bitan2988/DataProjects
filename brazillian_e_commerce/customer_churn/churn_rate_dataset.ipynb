{
 "cells": [
  {
   "cell_type": "code",
   "execution_count": 62,
   "metadata": {},
   "outputs": [],
   "source": [
    "import pandas as pd\n",
    "import numpy as np\n",
    "from datetime import datetime, timedelta\n",
    "import random\n",
    "import os\n",
    "\n",
    "\n",
    "customers_file = \"../data/olist_customers_dataset.csv\"\n",
    "geolocation_file = \"../data/olist_geolocation_dataset.csv\"\n",
    "order_items_file = \"../data/olist_order_items_dataset.csv\"\n",
    "payments_file = \"../data/olist_order_payments_dataset.csv\"\n",
    "reviews_file = \"../data/olist_order_reviews_dataset.csv\"\n",
    "orders_file = \"../data/olist_orders_dataset.csv\"\n",
    "products_file = \"../data/olist_products_dataset.csv\"\n",
    "sellers_file = \"../data/olist_sellers_dataset.csv\"\n",
    "prod_cat_name_translation_file = \"../data/product_category_name_translation.csv\"\n",
    "\n",
    "customer = pd.read_csv(customers_file)\n",
    "order_items = pd.read_csv(order_items_file)\n",
    "payemnts = pd.read_csv(payments_file)\n",
    "order = pd.read_csv(orders_file)\n",
    "products = pd.read_csv(products_file)\n"
   ]
  },
  {
   "cell_type": "code",
   "execution_count": 63,
   "metadata": {},
   "outputs": [],
   "source": [
    "# Churn\n",
    "# See for all the customers if he/she has made and purchase in last 3 months\n",
    "# if yes then 1 else 0\n",
    "order['order_purchase_timestamp'] = pd.to_datetime(order['order_purchase_timestamp'])\n",
    "\n",
    "order = pd.merge(order, customer, on=\"customer_id\", how=\"left\")\n",
    "\n",
    "first_purchase = order[['customer_unique_id', 'order_purchase_timestamp']].groupby(['customer_unique_id']).agg({'order_purchase_timestamp': 'min'}).reset_index()\n",
    "first_purchase.columns = ['customer_unique_id', 'first_purchase_timestamp']\n",
    "\n",
    "order = pd.merge(order, first_purchase, on=\"customer_unique_id\", how=\"left\")\n",
    "\n",
    "three_months_ago = np.max(order['order_purchase_timestamp']) - timedelta(days=3*30)\n",
    "\n",
    "order = order[order['first_purchase_timestamp'] < three_months_ago]\n",
    "\n",
    "filtered_df = order[(order['order_purchase_timestamp'] >= three_months_ago) & (order['first_purchase_timestamp'] < three_months_ago)]\n",
    "purchased_90_days = list(set(filtered_df['customer_unique_id'].to_list()))\n",
    "\n",
    "order[\"churn\"] = order.apply(lambda x: 1 if x[\"customer_unique_id\"] in purchased_90_days else 0, axis=1)\n",
    "\n"
   ]
  },
  {
   "cell_type": "code",
   "execution_count": 64,
   "metadata": {},
   "outputs": [],
   "source": [
    "# Items purchased and their quantity\n",
    "order = order[order['order_purchase_timestamp'] >= three_months_ago]\n",
    "\n",
    "products = products[['product_id']][:1000]\n",
    "\n",
    "order = pd.merge(order, order_items, on=\"order_id\", how=\"left\")\n",
    "\n",
    "order_quantity = order.groupby(['order_id', 'product_id']).size().reset_index()\n",
    "order_quantity.columns = ['order_id', 'product_id', 'quantity_purchased']\n",
    "\n",
    "order = pd.merge(order, order_quantity, on=[\"order_id\",  'product_id'], how=\"left\")\n",
    "\n",
    "distinct_product_purchased = list(set(order['product_id'].to_list()))\n",
    "\n",
    "all_products = products['product_id'].to_list()\n",
    "\n",
    "for prd in distinct_product_purchased:\n",
    "    if prd not in all_products:\n",
    "        all_products.append(prd)\n",
    "        \n",
    "products_final = pd.DataFrame(data=all_products, columns=['product_id_initial'])\n",
    "\n",
    "# Cartesian-join\n",
    "order['cross_join_key'] = 1\n",
    "products_final['cross_join_key'] = 1\n",
    "\n",
    "order = pd.merge(order, products_final, on=\"cross_join_key\")"
   ]
  },
  {
   "cell_type": "code",
   "execution_count": 65,
   "metadata": {},
   "outputs": [],
   "source": [
    "order[\"bp\"] = order.apply(lambda x: 1 if (str(x[\"product_id\"])==str(x[\"product_id_initial\"]) and x[\"churn\"]==1) else 0, axis=1)\n",
    "order[\"quantity_purchased\"] = order.apply(lambda x: 0 if x[\"bp\"]==0 else x[\"quantity_purchased\"], axis=1)\n",
    "\n",
    "order = pd.merge(order, payemnts, on=\"order_id\", how=\"left\")\n",
    "\n",
    "order = order[['order_id', 'customer_unique_id', 'order_purchase_timestamp', 'first_purchase_timestamp', 'churn', 'product_id_initial', 'price', 'freight_value', 'payment_value', 'bp', 'quantity_purchased']]\n",
    "\n",
    "order[\"payment_value\"] = order.apply(lambda x: 0 if x[\"bp\"]==0 else x[\"payment_value\"], axis=1)\n",
    "order[\"price\"] = order.apply(lambda x: 0 if x[\"bp\"]==0 else x[\"price\"], axis=1)\n",
    "order[\"freight_value\"] = order.apply(lambda x: 0 if x[\"bp\"]==0 else x[\"freight_value\"], axis=1)\n",
    "\n",
    "order.to_csv('churn_dataset.csv')"
   ]
  },
  {
   "cell_type": "code",
   "execution_count": 66,
   "metadata": {},
   "outputs": [
    {
     "name": "stdout",
     "output_type": "stream",
     "text": [
      "240 240\n"
     ]
    }
   ],
   "source": [
    "# test\n",
    "test_churn = order[order['churn']==1]\n",
    "test_bp = order[order['bp']==1]\n",
    "\n",
    "print(test_churn['customer_unique_id'].nunique(), test_bp['customer_unique_id'].nunique())"
   ]
  },
  {
   "cell_type": "code",
   "execution_count": 67,
   "metadata": {},
   "outputs": [],
   "source": [
    "# BP data\n",
    "# This dataset is at customer-product level\n",
    "\n",
    "bp_df = order[['customer_unique_id', 'product_id_initial', 'price', 'freight_value', 'quantity_purchased', 'payment_value', 'bp']]\n",
    "\n",
    "bp_df = bp_df.groupby(['customer_unique_id', 'product_id_initial']).agg({\n",
    "    'price': 'mean',\n",
    "    'freight_value': 'mean',\n",
    "    'quantity_purchased': 'sum',\n",
    "    'payment_value': 'sum',\n",
    "    'bp': 'max'\n",
    "}).reset_index()\n",
    "\n",
    "bp_df.to_csv('customerXproduct_level_bp_dataset.csv')"
   ]
  },
  {
   "cell_type": "code",
   "execution_count": 68,
   "metadata": {},
   "outputs": [],
   "source": [
    "# Churn dataset\n",
    "churn_df = order[['customer_unique_id', 'churn']]\n",
    "\n",
    "churn_df = churn_df.groupby(['customer_unique_id']).agg({\n",
    "    'churn': 'max'\n",
    "}).reset_index()\n",
    "\n",
    "bp_df.to_csv('customer_level_churn_dataset.csv')"
   ]
  }
 ],
 "metadata": {
  "kernelspec": {
   "display_name": "Python 3",
   "language": "python",
   "name": "python3"
  },
  "language_info": {
   "codemirror_mode": {
    "name": "ipython",
    "version": 3
   },
   "file_extension": ".py",
   "mimetype": "text/x-python",
   "name": "python",
   "nbconvert_exporter": "python",
   "pygments_lexer": "ipython3",
   "version": "3.11.0"
  }
 },
 "nbformat": 4,
 "nbformat_minor": 2
}
