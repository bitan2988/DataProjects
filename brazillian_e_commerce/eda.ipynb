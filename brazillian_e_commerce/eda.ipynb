{
 "cells": [
  {
   "cell_type": "code",
   "execution_count": null,
   "metadata": {},
   "outputs": [],
   "source": [
    "import pandas as pd\n",
    "import numpy as np\n",
    "import os\n",
    "\n",
    "\n",
    "customers_file = \"data/olist_customers_dataset.csv\"\n",
    "geolocation_file = \"data/\"\n",
    "order_items_file = \"data/\"\n",
    "payments_file = \"data/\"\n",
    "reviews_file = \"data/\"\n",
    "orders_file = \"data/\"\n",
    "products_file = \"data/\"\n",
    "sellers_file = \"data/\"\n",
    "prod_cat_name_translation_file = \"data/\""
   ]
  }
 ],
 "metadata": {
  "language_info": {
   "name": "python"
  }
 },
 "nbformat": 4,
 "nbformat_minor": 2
}
